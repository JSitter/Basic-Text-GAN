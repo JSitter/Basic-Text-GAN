{
 "cells": [
  {
   "cell_type": "code",
   "execution_count": 58,
   "metadata": {},
   "outputs": [],
   "source": [
    "# Sentence Gans\n",
    "import pandas as pd\n",
    "import xml.etree.ElementTree as ET\n",
    "import re"
   ]
  },
  {
   "cell_type": "code",
   "execution_count": 5,
   "metadata": {},
   "outputs": [],
   "source": [
    "from lxml import etree"
   ]
  },
  {
   "cell_type": "code",
   "execution_count": 6,
   "metadata": {},
   "outputs": [],
   "source": [
    "data_location = 'dataset/simplewiki-20170820-pages-meta-current.xml'\n",
    "tree = etree.parse(data_location)"
   ]
  },
  {
   "cell_type": "code",
   "execution_count": 174,
   "metadata": {},
   "outputs": [],
   "source": [
    "def sanitize_text(source_text):\n",
    "    '''\n",
    "        Santize text\n",
    "    '''\n",
    "    acceptedChars = set(\"'.abcdefghijklmnopqrstuvwxyz ABCDEFGHIJKLMNOPQRSTUVWXYZ\")\n",
    "    return ''.join(filter(acceptedChars.__contains__, source_text))"
   ]
  },
  {
   "cell_type": "code",
   "execution_count": 175,
   "metadata": {},
   "outputs": [],
   "source": [
    "def split_sentences(corpus):\n",
    "    sentences = []\n",
    "    \n",
    "    for index, char in enumerate(corpus):\n",
    "        sentence = []\n",
    "        if char.isupper():\n",
    "            sen"
   ]
  },
  {
   "cell_type": "code",
   "execution_count": 7,
   "metadata": {},
   "outputs": [],
   "source": [
    "result = etree.tostring(tree.getroot(), pretty_print=True, method=\"html\")"
   ]
  },
  {
   "cell_type": "code",
   "execution_count": 178,
   "metadata": {},
   "outputs": [
    {
     "name": "stdout",
     "output_type": "stream",
     "text": [
      "b'<mediawiki xmlns=\"http://www.mediawiki.org/xml/export-0.10/\" xmlns:xsi=\"http://www.w3.org/2001/XMLSchema-instance\" xsi:schemaLocation=\"http://www.mediawiki.org/xml/export-0.10/ http://www.mediawiki.org/xml/export-0.10.xsd\" version=\"0.10\" xml:lang=\"en\">\\n  <siteinfo>\\n    <sitename>Wikipedia</sitename>\\n    <dbname>simplewiki</dbname>\\n    <base>https://simple.wikipedia.org/wiki/Main_Page</base>\\n    <generator>MediaWiki 1.30.0-wmf.14</generator>\\n    <case>first-letter</case>\\n    <namespaces>\\n      <namespace key=\"-2\" case=\"first-letter\">Media</namespace>\\n      <namespace key=\"-1\" case=\"first-letter\">Special</namespace>\\n      <namespace key=\"0\" case=\"first-letter\"></namespace>\\n      <namespace key=\"1\" case=\"first-letter\">Talk</namespace>\\n      <namespace key=\"2\" case=\"first-letter\">User</namespace>\\n      <namespace key=\"3\" case=\"first-letter\">User talk</namespace>\\n      <namespace key=\"4\" case=\"first-letter\">Wikipedia</namespace>\\n      <namespace key=\"5\" case=\"first-letter\">Wikipedia talk</namespace>\\n      <namespace key=\"6\" case=\"first-letter\">File</namespace>\\n      <namespace key=\"7\" case=\"first-letter\">File talk</namespace>\\n      <namespace key=\"8\" case=\"first-letter\">MediaWiki</namespace>\\n      <namespace key=\"9\" case=\"first-letter\">MediaWiki talk</namespace>\\n      <namespace key=\"10\" case=\"first-letter\">Template</namespace>\\n      <namespace key=\"11\" case=\"first-letter\">Template talk</namespace>\\n      <namespace key=\"12\" case=\"first-letter\">Help</namespace>\\n      <namespace key'\n"
     ]
    }
   ],
   "source": [
    "print(result[0:1500])"
   ]
  },
  {
   "cell_type": "code",
   "execution_count": 9,
   "metadata": {},
   "outputs": [
    {
     "name": "stdout",
     "output_type": "stream",
     "text": [
      "['__class__', '__copy__', '__deepcopy__', '__delattr__', '__dir__', '__doc__', '__eq__', '__format__', '__ge__', '__getattribute__', '__gt__', '__hash__', '__init__', '__init_subclass__', '__le__', '__lt__', '__ne__', '__new__', '__pyx_vtable__', '__reduce__', '__reduce_ex__', '__repr__', '__setattr__', '__sizeof__', '__str__', '__subclasshook__', '_setroot', 'docinfo', 'find', 'findall', 'findtext', 'getelementpath', 'getiterator', 'getpath', 'getroot', 'iter', 'iterfind', 'parse', 'parser', 'relaxng', 'write', 'write_c14n', 'xinclude', 'xmlschema', 'xpath', 'xslt']\n"
     ]
    }
   ],
   "source": [
    "\n",
    "print(\n",
    "    dir(tree)\n",
    "     )"
   ]
  },
  {
   "cell_type": "code",
   "execution_count": 10,
   "metadata": {},
   "outputs": [],
   "source": [
    "root = tree.getroot()"
   ]
  },
  {
   "cell_type": "code",
   "execution_count": 11,
   "metadata": {},
   "outputs": [],
   "source": [
    "# print(etree.tostring(root, pretty_print=True, encoding='unicode')) # Let's crash the Kernel!"
   ]
  },
  {
   "cell_type": "code",
   "execution_count": 12,
   "metadata": {},
   "outputs": [
    {
     "name": "stdout",
     "output_type": "stream",
     "text": [
      "['__bool__', '__class__', '__contains__', '__copy__', '__deepcopy__', '__delattr__', '__delitem__', '__dir__', '__doc__', '__eq__', '__format__', '__ge__', '__getattribute__', '__getitem__', '__gt__', '__hash__', '__init__', '__init_subclass__', '__iter__', '__le__', '__len__', '__lt__', '__ne__', '__new__', '__reduce__', '__reduce_ex__', '__repr__', '__reversed__', '__setattr__', '__setitem__', '__sizeof__', '__str__', '__subclasshook__', '_init', 'addnext', 'addprevious', 'append', 'attrib', 'base', 'clear', 'cssselect', 'extend', 'find', 'findall', 'findtext', 'get', 'getchildren', 'getiterator', 'getnext', 'getparent', 'getprevious', 'getroottree', 'index', 'insert', 'items', 'iter', 'iterancestors', 'iterchildren', 'iterdescendants', 'iterfind', 'itersiblings', 'itertext', 'keys', 'makeelement', 'nsmap', 'prefix', 'remove', 'replace', 'set', 'sourceline', 'tag', 'tail', 'text', 'values', 'xpath']\n"
     ]
    }
   ],
   "source": [
    "print(dir(root))"
   ]
  },
  {
   "cell_type": "code",
   "execution_count": 13,
   "metadata": {},
   "outputs": [],
   "source": [
    "# tree = ET.parse('dataset/simplewiki-20170820-pages-meta-current.xml')"
   ]
  },
  {
   "cell_type": "code",
   "execution_count": null,
   "metadata": {},
   "outputs": [],
   "source": []
  },
  {
   "cell_type": "code",
   "execution_count": 14,
   "metadata": {},
   "outputs": [
    {
     "data": {
      "text/plain": [
       "'{http://www.mediawiki.org/xml/export-0.10/}mediawiki'"
      ]
     },
     "execution_count": 14,
     "metadata": {},
     "output_type": "execute_result"
    }
   ],
   "source": [
    "root.tag"
   ]
  },
  {
   "cell_type": "code",
   "execution_count": 15,
   "metadata": {},
   "outputs": [
    {
     "data": {
      "text/plain": [
       "430041"
      ]
     },
     "execution_count": 15,
     "metadata": {},
     "output_type": "execute_result"
    }
   ],
   "source": [
    "len(root.getchildren())"
   ]
  },
  {
   "cell_type": "code",
   "execution_count": 179,
   "metadata": {},
   "outputs": [],
   "source": [
    "# dir(root)"
   ]
  },
  {
   "cell_type": "code",
   "execution_count": null,
   "metadata": {},
   "outputs": [],
   "source": []
  },
  {
   "cell_type": "code",
   "execution_count": null,
   "metadata": {},
   "outputs": [],
   "source": []
  },
  {
   "cell_type": "code",
   "execution_count": 18,
   "metadata": {},
   "outputs": [
    {
     "data": {
      "text/plain": [
       "<Element {http://www.mediawiki.org/xml/export-0.10/}title at 0x7fd4fec0fec8>"
      ]
     },
     "execution_count": 18,
     "metadata": {},
     "output_type": "execute_result"
    }
   ],
   "source": [
    "root[331][0]"
   ]
  },
  {
   "cell_type": "code",
   "execution_count": 19,
   "metadata": {},
   "outputs": [
    {
     "data": {
      "text/plain": [
       "<Element {http://www.mediawiki.org/xml/export-0.10/}siteinfo at 0x7fd4fec19188>"
      ]
     },
     "execution_count": 19,
     "metadata": {},
     "output_type": "execute_result"
    }
   ],
   "source": [
    "root[0]"
   ]
  },
  {
   "cell_type": "code",
   "execution_count": 20,
   "metadata": {},
   "outputs": [
    {
     "data": {
      "text/plain": [
       "0"
      ]
     },
     "execution_count": 20,
     "metadata": {},
     "output_type": "execute_result"
    }
   ],
   "source": [
    "len(root[0][0])"
   ]
  },
  {
   "cell_type": "code",
   "execution_count": 21,
   "metadata": {},
   "outputs": [
    {
     "data": {
      "text/plain": [
       "'\\n    '"
      ]
     },
     "execution_count": 21,
     "metadata": {},
     "output_type": "execute_result"
    }
   ],
   "source": [
    "root[11].text"
   ]
  },
  {
   "cell_type": "code",
   "execution_count": null,
   "metadata": {},
   "outputs": [],
   "source": []
  },
  {
   "cell_type": "code",
   "execution_count": 23,
   "metadata": {},
   "outputs": [
    {
     "data": {
      "text/plain": [
       "'{http://www.mediawiki.org/xml/export-0.10/}siteinfo'"
      ]
     },
     "execution_count": 23,
     "metadata": {},
     "output_type": "execute_result"
    }
   ],
   "source": [
    "root[0].tag"
   ]
  },
  {
   "cell_type": "code",
   "execution_count": 24,
   "metadata": {},
   "outputs": [
    {
     "data": {
      "text/plain": [
       "'\\n    '"
      ]
     },
     "execution_count": 24,
     "metadata": {},
     "output_type": "execute_result"
    }
   ],
   "source": [
    "root[2].text"
   ]
  },
  {
   "cell_type": "code",
   "execution_count": null,
   "metadata": {},
   "outputs": [],
   "source": []
  },
  {
   "cell_type": "code",
   "execution_count": 50,
   "metadata": {},
   "outputs": [
    {
     "data": {
      "text/plain": [
       "[]"
      ]
     },
     "execution_count": 50,
     "metadata": {},
     "output_type": "execute_result"
    }
   ],
   "source": [
    "tree.findall('.//page/text')"
   ]
  },
  {
   "cell_type": "code",
   "execution_count": 52,
   "metadata": {},
   "outputs": [],
   "source": [
    "xml_iter = ET.iterparse(data_location, events=('start', 'end'))"
   ]
  },
  {
   "cell_type": "code",
   "execution_count": 57,
   "metadata": {},
   "outputs": [
    {
     "name": "stdout",
     "output_type": "stream",
     "text": [
      "</{http://www.mediawiki.org/xml/export-0.10/}sha1>\n",
      "</{http://www.mediawiki.org/xml/export-0.10/}revision>\n",
      "</{http://www.mediawiki.org/xml/export-0.10/}page>\n",
      "<{http://www.mediawiki.org/xml/export-0.10/}page><{http://www.mediawiki.org/xml/export-0.10/}title>Battle Creek, Michigan</{http://www.mediawiki.org/xml/export-0.10/}title>\n",
      "<{http://www.mediawiki.org/xml/export-0.10/}ns>0</{http://www.mediawiki.org/xml/export-0.10/}ns>\n",
      "<{http://www.mediawiki.org/xml/export-0.10/}id>18069</{http://www.mediawiki.org/xml/export-0.10/}id>\n",
      "<{http://www.mediawiki.org/xml/export-0.10/}revision><{http://www.mediawiki.org/xml/export-0.10/}id>5676540</{http://www.mediawiki.org/xml/export-0.10/}id>\n",
      "<{http://www.mediawiki.org/xml/export-0.10/}parentid>5265130</{http://www.mediawiki.org/xml/export-0.10/}parentid>\n",
      "<{http://www.mediawiki.org/xml/export-0.10/}timestamp>2017-05-03T04:48:23Z</{http://www.mediawiki.org/xml/export-0.10/}timestamp>\n",
      "<{http://www.mediawiki.org/xml/export-0.10/}contributor><{http://www.mediawiki.org/xml/export-0.10/}username>Auntof6</{http://www.mediawiki.org/xml/export-0.10/}username>\n",
      "<{http://www.mediawiki.org/xml/export-0.10/}id>22027</{http://www.mediawiki.org/xml/export-0.10/}id>\n",
      "</{http://www.mediawiki.org/xml/export-0.10/}contributor>\n",
      "<{http://www.mediawiki.org/xml/export-0.10/}minor>22027</{http://www.mediawiki.org/xml/export-0.10/}minor>\n",
      "<{http://www.mediawiki.org/xml/export-0.10/}comment>add navbox and/or general cleanup using [[Project:AWB|AWB]]</{http://www.mediawiki.org/xml/export-0.10/}comment>\n",
      "<{http://www.mediawiki.org/xml/export-0.10/}model>wikitext</{http://www.mediawiki.org/xml/export-0.10/}model>\n",
      "<{http://www.mediawiki.org/xml/export-0.10/}format>text/x-wiki</{http://www.mediawiki.org/xml/export-0.10/}format>\n",
      "<{http://www.mediawiki.org/xml/export-0.10/}text>'''Battle Creek''' is a city in western [[Michigan]], USA. The headquarters of the [[Kellogg's]] [[cereal]] company is located in this city.\n",
      "\n",
      "==Other websites==\n",
      "{{Commonscat}}\n",
      "* [http://www.battlecreek.org/ Official website]\n",
      "{{coord|42.32|-85.18|display=title}}\n",
      "\n",
      "{{Michigan}}\n",
      "\n",
      "[[Category:Cities in Michigan]]</{http://www.mediawiki.org/xml/export-0.10/}text>\n",
      "<{http://www.mediawiki.org/xml/export-0.10/}sha1>non90pqlactgv96x53xewrujetsutf0</{http://www.mediawiki.org/xml/export-0.10/}sha1>\n",
      "</{http://www.mediawiki.org/xml/export-0.10/}revision>\n",
      "</{http://www.mediawiki.org/xml/export-0.10/}page>\n",
      "<{http://www.mediawiki.org/xml/export-0.10/}page><{http://www.mediawiki.org/xml/export-0.10/}title>Battle Creek (Michigan)</{http://www.mediawiki.org/xml/export-0.10/}title>\n",
      "<{http://www.mediawiki.org/xml/export-0.10/}ns>0</{http://www.mediawiki.org/xml/export-0.10/}ns>\n",
      "<{http://www.mediawiki.org/xml/export-0.10/}id>18070</{http://www.mediawiki.org/xml/export-0.10/}id>\n",
      "<{http://www.mediawiki.org/xml/export-0.10/}redirect>18070</{http://www.mediawiki.org/xml/export-0.10/}redirect>\n",
      "<{http://www.mediawiki.org/xml/export-0.10/}revision><{http://www.mediawiki.org/xml/export-0.10/}id>79968</{http://www.mediawiki.org/xml/export-0.10/}id>\n",
      "<{http://www.mediawiki.org/xml/export-0.10/}timestamp>2005-12-24T01:21:43Z</{http://www.mediawiki.org/xml/export-0.10/}timestamp>\n",
      "<{http://www.mediawiki.org/xml/export-0.10/}contributor><{http://www.mediawiki.org/xml/export-0.10/}username>Freshstart</{http://www.mediawiki.org/xml/export-0.10/}username>\n",
      "<{http://www.mediawiki.org/xml/export-0.10/}id>2077</{http://www.mediawiki.org/xml/export-0.10/}id>\n",
      "</{http://www.mediawiki.org/xml/export-0.10/}contributor>\n",
      "<{http://www.mediawiki.org/xml/export-0.10/}comment>[[Battle Creek (Michigan)]] moved to [[Battle Creek, Michigan]]: std us community naming; orphan w/parens, not w/comma; consistent w/EN</{http://www.mediawiki.org/xml/export-0.10/}comment>\n",
      "<{http://www.mediawiki.org/xml/export-0.10/}model>wikitext</{http://www.mediawiki.org/xml/export-0.10/}model>\n",
      "<{http://www.mediawiki.org/xml/export-0.10/}format>text/x-wiki</{http://www.mediawiki.org/xml/export-0.10/}format>\n",
      "<{http://www.mediawiki.org/xml/export-0.10/}text>#REDIRECT [[Battle Creek, Michigan]]</{http://www.mediawiki.org/xml/export-0.10/}text>\n",
      "<{http://www.mediawiki.org/xml/export-0.10/}sha1>5u2rxdsa69kl38y4krfbe1hfa4dsht7</{http://www.mediawiki.org/xml/export-0.10/}sha1>\n",
      "</{http://www.mediawiki.org/xml/export-0.10/}revision>\n",
      "</{http://www.mediawiki.org/xml/export-0.10/}page>\n",
      "<{http://www.mediawiki.org/xml/export-0.10/}page><{http://www.mediawiki.org/xml/export-0.10/}title>Grand Rapids, Michigan</{http://www.mediawiki.org/xml/export-0.10/}title>\n",
      "<{http://www.mediawiki.org/xml/export-0.10/}ns>0</{http://www.mediawiki.org/xml/export-0.10/}ns>\n",
      "<{http://www.mediawiki.org/xml/export-0.10/}id>18072</{http://www.mediawiki.org/xml/export-0.10/}id>\n",
      "<{http://www.mediawiki.org/xml/export-0.10/}revision><{http://www.mediawiki.org/xml/export-0.10/}id>5676546</{http://www.mediawiki.org/xml/export-0.10/}id>\n",
      "<{http://www.mediawiki.org/xml/export-0.10/}parentid>5593255</{http://www.mediawiki.org/xml/export-0.10/}parentid>\n",
      "<{http://www.mediawiki.org/xml/export-0.10/}timestamp>2017-05-03T04:58:24Z</{http://www.mediawiki.org/xml/export-0.10/}timestamp>\n",
      "<{http://www.mediawiki.org/xml/export-0.10/}contributor><{http://www.mediawiki.org/xml/export-0.10/}username>Auntof6</{http://www.mediawiki.org/xml/export-0.10/}username>\n",
      "<{http://www.mediawiki.org/xml/export-0.10/}id>22027</{http://www.mediawiki.org/xml/export-0.10/}id>\n",
      "</{http://www.mediawiki.org/xml/export-0.10/}contributor>\n",
      "<{http://www.mediawiki.org/xml/export-0.10/}minor>22027</{http://www.mediawiki.org/xml/export-0.10/}minor>\n",
      "<{http://www.mediawiki.org/xml/export-0.10/}comment>add navbox and/or general cleanup using [[Project:AWB|AWB]]</{http://www.mediawiki.org/xml/export-0.10/}comment>\n",
      "<{http://www.mediawiki.org/xml/export-0.10/}model>wikitext</{http://www.mediawiki.org/xml/export-0.10/}model>\n",
      "<{http://www.mediawiki.org/xml/export-0.10/}format>text/x-wiki</{http://www.mediawiki.org/xml/export-0.10/}format>\n",
      "<{http://www.mediawiki.org/xml/export-0.10/}text>[[File:Grand Rapids Skyline.JPG|thumb|Grand Rapids skyline.]] [[File:Meijer-Midland-MI-July-16-2006.jpg|thumb|Meijer store.]]\n",
      "'''Grand Rapids''' is a large [[city]] in western [[Michigan]], [[United States]]. Former American [[president (United States)|president]] [[Gerald Ford]] grew up in Grand Rapids. Grand Rapids is also the birthplace of [[Amway]] and the [[Meijer]] store chain.\n",
      "\n",
      "Grand Rapids is the [[county seat]] of [[Kent County, Michigan|Kent County]]. It is the second largest city in the state, after [[Detroit, Michigan|Detroit]]. The third largest is Warren.\n",
      "\n",
      "The city has many attractions, including the [[Frederik Meijer Gardens and Sculpture Park]] and [[John Ball Park]], which is a [[zoo]]. [[Grand Valley State University]] has a campus in downtown Grand Rapids.\n",
      "\n",
      "== Other websites ==\n",
      "*{{official website|http://www.grand-rapids.mi.us/}}\n",
      "\n",
      "{{Michigan}}\n",
      "\n",
      "{{US-geo-stub}}\n",
      "\n",
      "[[Category:County seats in Michigan]]\n",
      "[[Category:Grand Rapids, Michigan| ]]</{http://www.mediawiki.org/xml/export-0.10/}text>\n",
      "<{http://www.mediawiki.org/xml/export-0.10/}sha1>lagmuvog4jjanjqri80hhotyyn6muoq"
     ]
    }
   ],
   "source": [
    "iterations = 100\n",
    "cur_iteration = 0\n",
    "for event, elem in xml_iter:\n",
    "    if event == 'start':\n",
    "        print('<%s>'% elem.tag, end='')\n",
    "        if elem.text:   \n",
    "            text = elem.text.strip()\n",
    "        if text != '':\n",
    "            print(text, end='')\n",
    "    elif event == 'end':\n",
    "        print('</%s>' % elem.tag)\n",
    "    cur_iteration +=1\n",
    "    if cur_iteration >= iterations:\n",
    "        break"
   ]
  },
  {
   "cell_type": "code",
   "execution_count": 165,
   "metadata": {},
   "outputs": [
    {
     "name": "stderr",
     "output_type": "stream",
     "text": [
      "/opt/conda/lib/python3.7/site-packages/ipykernel_launcher.py:17: FutureWarning: Possible nested set at position 1\n"
     ]
    }
   ],
   "source": [
    "iterations = 1000\n",
    "cur_iteration = 0\n",
    "corpus = []\n",
    "\n",
    "for event, elem in xml_iter:\n",
    "    if event == 'start':\n",
    "        if '}text' in elem.tag:\n",
    "            if elem.text:\n",
    "                if len(elem.text) > 300:\n",
    "                    if '#REDIRECT' not in elem.text:\n",
    "                        text = elem.text.strip()\n",
    "                        text = text.replace('\\n', '')\n",
    "                        text = re.sub('[[.+(User)||.+(File)||.+(Image).+?]]', '', text)\n",
    "                        text = re.sub('{{.+?}}', '', text)\n",
    "                        text = re.sub('\\'\\\\\\'\\\\\\'\\\\\\'', '', text)\n",
    "                        text = re.sub('\\\\\\'\\\\\\'\\\\\\'', '', text)\n",
    "                        text = re.sub('[[.+(Category)*]]', '', text)\n",
    "                        \n",
    "                        corpus.append(text)\n",
    "\n",
    "    cur_iteration +=1\n",
    "    if cur_iteration >= iterations:\n",
    "        break"
   ]
  },
  {
   "cell_type": "code",
   "execution_count": 166,
   "metadata": {},
   "outputs": [
    {
     "data": {
      "text/plain": [
       "['Hogwarts School of Witchcraft and Wizardry is a fictional [[boarding scho in [[J. K. Rowlin]\\'s best-selling \\'\\'[[Harry Pott\\'\\' series. It is a school of magic for witches and wizards between the ages of eleven and seventeen living in the United Kingdom, the Republic of Ireland and Scotland.==Hogwarts houses=====Gryffindor===Gryffindor house was born under Godric Grand Gryffindor, from whom it gets the name. The house especially values [[coura. Its symbol (animal) is the Griffon and its colours are [[scarle](red-purple) and yellow / [[gold|goldish]] yellow. Nearly Headless Nick is the house ghost. The Gryffindors always compete with the Slytherins.The Gryffindor Common Room (the place where the Gryffindor students spend their time and do their homework) is in one of the castle\\'s towers, at the seventh floor. At the door, there is the Fat Lady, or the Lady who is fat. She lets the students in only after they give her the password (which changes from the beginning of the school year to the end of the school year). The Fat Lady wears a blue dress. In the room there is a place with fire, many chairs and tables, and two pair of stairs which take the girls and boys to their sleeping rooms.The head of Gryffindor house is Minerva McGonagall.List of well known Gryffindors===Hufflepuff===Hufflepuff house was born under Helga Hufflepuff, from whom it gets the name. The house especially values hard work, patience, friendship and fair play. Its symbol (animal) is the badger and its colours are [[black]] and [[yellow]]. The Fat Friar is the house ghost.The Hufflepuff Common Room door is near the kitchens, in the dungeons. It is a quite cozy and welcoming place, not at all like a dungeon. In the room there are yellow hangings and fat armchairs, with little underground tunnels that take the students to their sleeping rooms. The tunnels have round doors like barrel-tops.The head of Hufflepuff house is Pomona Sprout.Cedric Diggory dies in \"Harry Potter and the Goblet of Fire\" book and movie.===Ravenclaw===Ravenclaw house was born under Rowena Ravenclaw, from whom it gets the name. The house especially values intelligence. Its symbol (animal) is the eagle and its colours are [[blu] and [[bronz], the house\\'s saying is \"Wit beyond measure is mans greatest treasure\". The Grey Lady is the house ghost and when she was alive she was Helena Ravenclaw, daughter of Rowena Ravenclaw. The Ravenclaw Common Room is in Ravenclaw Tower, on the west side of the Castle. At the door the students must answer a riddle that the eagle-shaped door knocker asks them.The head of Ravenclaw house is Filius Flitwick.List of well known Ravenclaws===Slytherin===Slytherin house was born under Salazar Slytherin, from whom it gets the name. The house especially values ambition and determination. Its symbol (animal) is the snake and its colours are [[green]] and [[silv. The Bloody Baron is the house ghost.The Slytherin Common Room is in the dungeons of Hogwarts and is placed under The Black Lake, in the school grounds.The house has a negative reputation, with a lot of people saying that it is the house from where almost all dark wizards in Britain, notably Tom Riddle ([[Voldemor]), came from.The house is usually in competition with the Gryffindor house, as they \"don\\'t like each other on principle\".The head of Slytherin house is Severus Snape and in the 7th book Horace Slughorn.List of well known Slytherins',\n",
       " \" | media_affiliates        = [[Fox Sports Detroi]<br>[[WXYT (AM)|Talk Radio WXYT (1270 AM]<br>[[WXYT-FM|The Ticket (97.1 FM]| owner                   = [[Olympia Entertainmen]<br>([[Mike Ilitch]], chairman)| general_manager         = [[Ken Holland]]| head_coach              = [[Jeff Blashil]| president               = | captain                 = [[Henrik Zetterbe| minor_league_affiliates = [[Grand Rapids Griffin] ([[American Hockey League|AHL]])<br>[[Toledo Walle ([[ECHL]])| stanley_cups            =  11 ([[1936 Stanley Cup Finals|1935–36]], [[1937 Stanley Cup Finals|1936–37]], [[1943 Stanley Cup Finals|1942–43]], [[1950 Stanley Cup Finals|1949–50]], [[1952 Stanley Cup Finals|1951–52]], [[1954 Stanley Cup Finals|1953–54]], [[1955 Stanley Cup Finals|1954–55]], [[1997 Stanley Cup Finals|1996–97]], [[1998 Stanley Cup Finals|1997–98]], [[2002 Stanley Cup Finals|2001–02]], [[2008 Stanley Cup Finals|2007–08]])| conf_titles             = 6 ([[1994–95 NHL season|1994–95]], [[1996–97 NHL season|1996–97]], [[1997–98 NHL season|1997–98]],<br>[[2001–02 NHL season|2001–02]], [[2007–08 NHL season|2007–08]], [[2008–09 NHL season|2008–09]])| presidents'_trophies    = 6  ([[1994–95 NHL season|1994–95]], [[1995–96 NHL season|1995–96]], [[2001–02 NHL season|2001–02]], [[2003–04 NHL season|2003–04]], [[2005–06 NHL season|2005–06]], [[2007–08 NHL season|2007–08]])| division_titles         = 19 ([[1933–34 NHL season|1933–34]], [[1935–36 NHL season|1935–36]], [[1936–37 NHL season|1936–37]], [[1987–88 NHL season|1987–88]], [[1988–89 NHL season|1988–89]], [[1991–92 NHL season|1991–92]], [[1993–94 NHL season|1993–94]], [[1994–95 NHL season|1994–95]], [[1995–96 NHL season|1995–96]], [[1998–99 NHL season|1998–99]], [[2000–01 NHL season|2000–01]], [[2001–02 NHL season|2001–02]], [[2002–03 NHL season|2002–03]], [[2003–04 NHL season|2003–04]], [[2005–06 NHL season|2005–06]], [[2006–07 NHL season|2006–07]], [[2007–08 NHL season|2007–08]], [[2008–09 NHL season|2008–09]], [[2010-11 NHL season|2010–11]])}}The Detroit Red Wings are an [[ice hocke] team in the [[National Hockey Leagu] (NHL). [[Image:Maillot blanc red-wings.JPG|thumb|200px|The Detroit Red Wings strip]]== History ===== Early history ===The Red Wings were formed in 1926.  The [[Western Canada Hockey Leagu] (WCHL) folded that year, and many of the players from the WCHL's [[Victoria Couga went to play for Detroit.  As a result, the team was first called the Detroit Cougars, then later it changed to Detroit Falcons, before becoming known as the Red Wings.=== Later history ===In the late [[1940], the [[line (sports)|lin] of Sid Abel, [[Gordie How], and Ted Lindsey became very important to the team.  Abel won the Hart Trophy in 1949, and Lindsey won the [[Art Ross Troph] as scoring champion in 1950.  Howe then won six Hart and six Art Ross Trophies between 1951 and 1963.  Terry Sawchuck was a star [[goaltend, who ended up with more career [[shutou]s than any other goalie (103).  Red Kelly won the first ever [[Norris Troph] as best defence.  As a result of having such great players, the Red Wings won four Stanley Cups in six years:  1950, 1952, 1954, and 1955.  Two of these were very close:  they were won in [[overtim] of the 7th and deciding game in 1950 (against the [[New York Range) and 1954 (against the Montreal Canadiens).  These are the only two times the NHL championship has gone to overtime of game seven.The Red Wings continued to be a strong team throughout the [[1960]].  They lost the NHL Finals five times between 1956 and 1966.  Norm Ullman was their star center in the 1960s.=== Comeback ===They were not a strong team again until the late 1980s.  Steve Yzerman became a star at this time.  Sergei Fedorov became the first [[Russi]n to win the Hart Trophy in 1994.  The Red Wings won the [[President's Cup]] as top team in the NHL regular season in 1995, 1996 (with a record number of wins), and 2002.  They won the Stanley Cup in 1997, 1998, and 2002.  Nicklas Lidstrom won the [[Norris Troph] as best defenceman three times beginning in 2001.  The team was one of the richest in the NHL, which helped them get many good players.== Winnings ==The Red Wings have won eleven [[Stanley Cup]]s, the third most of any team, and the most of the United States teams. They first won in 1936 and 1937, and again in 1943. Ebbie Goodfellow won the [[Hart Troph] as the NHL's [[most valuable play in 1940.  Sid Howe was also a star on the team at this time.==Related pages==*[[List of Detroit Red Wings playe==Other websites==*[http://redwings.nhl.com/ Official websit[[Category:Detroit Red Wings| ]][[Category:1926 establishmen\",\n",
       " '| birth_place = [[Brantford, Ontario|Brantford]], [[Ontari], [[Canada|CAN]]| career_start =[[1978-79 WHA season|1978]]| career_end = [[1998-99 NHL season|1999]]| halloffame = 1999}}Wayne Gretzky (born January 26, 1961 in [[Brantford]], [[Ontari]) known as \"The Great One\", was a  [[Canadians|Canadian]] [[ice hocke] player in the [[National Hockey Leagu] (NHL) for 20 seasons.  He was [[Coach (sport)|coach]] and part-owner of the NHL\\'s [[Phoenix Coyot until he stepped down on September 24, 2009.  He also managed [[Canad]\\'s [[Olympic Games|Olympic]] hockey teams in 2002 and 2006, as well as Canada\\'s 2004 [[Men\\'s World Cup of Hockey|World Cup of Hocke] team.Gretzky was a star junior player with the [[Sault Ste. Marie, Ontario|Sault Ste. Mari] Greyhounds of the [[Ontario Hockey Leagu]. When he was a boy he went from a bad first season, to great improvement. But this success also brought criticism because his father pushed Gretzky\\'s success over other young players\\'.<ref>\"Wayne Gretzkey.\" (2009). \\'\\'Notable Sports Figures.\\'\\' Detroit: Gale Publishing.</ref> In 1978, when he was 17, he began playing as a [[profession with the [[Indianapolis Race of the [[World Hockey Association]] (WHA), but was sold to the [[Edmonton Oile after only a few games.  He was third in WHA scoring and rookie of the year.The WHA folded in 1979, and the Oilers team joined the NHL.  At the age of 19, Gretzky won his first [[Hart Troph] as the NHL\\'s [[most valuable play (MVP).  He won this trophy nine times.  In 1981, he won his first of ten [[Art Ross Trophy|Art Ross Trophi as NHL scoring champion.  He set many records in the [[1980], including most goals (92), assists (163), and points (215) in a season.  In the 1981-82 season, he scored 50 goals in 39 games, when the record had been 50 games.  He was named as [[Sports Illustrated]] athlete of the year in 1982. He was also called \"the greatest player of all time\" in \\'\\'Total Hockey: The Official Encyclopedia of the NHL\\'\\'.<ref name=\"greatness\"></ref>Gretzky won four [[Stanley Cup]] championships with the Edmonton Oilers:  1984, 1985, 1987, and 1988.  He won the [[Conn Smythe Troph] as MVP in the playoffs in 1985 and 1988.  Then, in 1988, he was traded to the [[Los Angeles Kin.  He helped them to the finals in 1993.  In 1996, he was traded to the [[St. Louis Blu, and signed with the [[New York Range at the beginning of the 1996-97 season.  He retired, and was inducted into the [[Hockey Hall of Fam], in 1999.When he retired, he had 2857 career points, over 1000 more than the next highest player.  To this day, no one else has reached 2000.  He still holds the record for most career goals (894) and assists (1963) (he has more assists than anyone else has points).  He holds many other records, such as most 100-point seasons (15), most points in the playoffs (47 in one year and 382 career), and most games in a row with at least one point (51).    He was named to the first or second all-star team 15 times and was MVP of the NHL all-star game three times.  He had 61 official NHL records when he retired.Gretzky\\'s number, #99, was retired by the entire league.<ref name=\"retired\"></ref>  He was named Canada\\'s male athlete of the 20th century.  He has also been honoured with Canada\\'s highest honour for a [[wikt:civilian|civilian]]:  the [[Order of Canad].Gretzky married [[United States|American]] [[actor|actres] Janet Jones in 1988.  They have five children:  Paulina, Ty, Trevor, Tristan, and Emma.[[File:Wayne Gretzky 1997.jpg|thumb|Wayne Gretzky in 1997 when he played for the [[New York Range ]]== References ==[[Category:1961 birth][[Category:Art Ross Trophy winne[[Category:Canadian ice hockey coach[[Category:Canadian ice hockey centr[[Category:Conn Smythe Trophy winne[[Category:Edmonton Oilers playe[[Category:Hart Memorial Trophy winne[[Category:Hockey Hall of Fame inducte[[Category:Ice hockey people from Ontari][[Category:Lady Byng Memorial Trophy winne[[Category:Living peopl][[Category:Los Angeles Kings playe[[Category:New York Rangers playe[[Category:St. Louis Blues playe[[Category:World Hockey Association playe[[Category:Stanley Cup champion]',\n",
       " \"Frankfurt am Main, commonly referred to as ''Frankfurt'', is one of the biggest cities in [[German]. The city of Frankfurt has a [[population]] of 700,000. The [[metropolitan ar, called [[Rhine-Main]] after its two biggest rivers, has over four million people. Frankfurt is an important centre for traffic and for the financial business. The [[Frankfurt International Airpor] is the largest in Germany, and the third biggest in the world. Frankfurt's train station is one of the largest, and its highway crossing is the centre of Germany's street network. Frankfurt is the seat of the [[European Central Bank]], the German Federal Bank (Bundesbank) and of the biggest German banks, and it has an important [[stock exchan where [[share (finance)|shar of German companies are traded.Frankfurt is on the [[Main]] river. The city's name means ''ford of the Franks'' - a [[ford]] is a place in a river where it is so shallow that you can walk through it, and the [[Frank] were a [[Germanic peopl] which existed in the first [[millenniu]. So, this was a place where travellers could cross the river without a boat. The frankish [[kin]s built a [[palac] and a [[church]] here. Over the [[century|centuri, this group of buildings grew to be a big city which was famous for international [[trad] and [[fai]s, like today. Frankfurt was one of the most important cities of the [[Holy Roman Empi, and its [[empers were crowned here. In the [[19th centur], Frankfurt was the [[Capital (city)|capit of the [[German Confederation]] which was founded after the Holy Roman Empire fell apart. During the [[European Revolutions of 1848|revolution of 1848]], the first freely [[election|elected]] German [[parliamen] worked in Frankfurt.During the [[Industrial Revolution]], many [[Factory|factori and [[railwa] lines were built in Frankfurt and its [[suburb]]s. In the city centre, a lot of big buildings were built, like an [[ope house, [[theats, stock exchange, [[railway station]]s, [[department stos or [[museu]s. [[Tr lines were constructed to make travelling inside the growing city easier. In [[World War I], the old city was totally destroyed by airplane bomber attacks. After the war, Germany was divided into two parts, and Frankfurt became the economic capital of [[West German] while [[Bonn]] was chosen to be the political capital.Frankfurt is a very international city. Every third inhabitant is not German. Most immigrants come from southeastern [[Europ], [[Turke] and [[North Afric], but there are people from almost every country living in Frankfurt. There are also many international business companies here, and the big airport links Frankfurt with many countries in the world. Many [[bank]]s are based in Frankfurt, and the city has some of the tallest buildings in Europe.''Frankfurter'' is also a name for a [[hot d, or [[sausa, because they are said to have originated in the city.Frankfurt has an [[oceanic clima (''Cfb'' in the [[Köppen climate classification]]).== Wikimania ==The first [[Wikimani] conference was hosted in this city in 2005.== Gallery ==<gallery>Image:Dzbank kronenhochhaus.jpg|Skyscraper in the cityImage:AirportFrankfurt fromair.jpg|Frankfurt AirportImage:Frankfurt am Main - Netzplan Schienennahverkehr.png|public transport networkFile:Frankfurt am Main skyline (26898754753).jpg|thumb|Frankfurt skyline</gallery>== Related pages ==* [[Goethe University Frankfur][[Category:Cities with more than 500,000 inhabitan[[Category:Frankfurt| ]][[Category:Urban Districts in Regierungsbezirk Darmstad][[Category:Imperial free citi\",\n",
       " \"So I am here to protect this wiki and be fair, rather than an over-zealous idiot. I expect I'll have to change this name in the end, though I think it's a silly thing to worry about. I'm addicted to the [[Interne], for example, so one could say that [[Netoholic]] is making light of my affliction in the same way a user with the name [[crippl] could be said to be offending certain disabled people. But that would be petty.Perhaps I will be User:LessOfAShortFusedJobsworthThanSomeoneWhoBearsNoRelationToNetoholicAtAll.Then again, perhaps not.==What happened?==[[User_talk:Netoholic#Blocked.3F|Thi] - edits fine, username not, so NH blocks the username, and my fixed IP... heavy handed? Of course!==Pages What I Have Done Fings At==[[Special:Contributions/I%20hate%20Netoholic | Click]\",\n",
       " '[[Image:Hugues capet.jpg|thumb|]]Hugh Capet ([[French language|French]]: Hugues Capet) (941–996) was [[List of French monarchs|King of the Frank] from [[987]] until his death in 996. The dynasty he established ruled France in an unbroken line for 300 years. ==Early career==Hugh was born in the winter of 941 and was the son of [[Hugh the Grea] and [[Hedwige of Saxon].<ref name=ESII10.11>Detlev Schwennicke, \\'\\'Europäische Stammtafeln: Stammtafeln zur Geschichte der Europäischen Staaten\\'\\', Neue Folge, Band II (Marburg, Germany: J. A. Stargardt, 1984), Tafeln 10, 11</ref> His grandfather was [[Robert I of France|King Robert ].<ref>Jim Bradbury, \\'\\'The Capetians: Kings of France, 987-1328\\'\\', (London: Hambledon Continuum, 2007), p. 69</ref>  His grandmother was Beatrice of Vermandois. She was a [[Carolingian]]; a daughter of [[Herbert I of Vermandoi].<ref name=ESII10.11/>  By this [[:wikt:connection|connection]] he was the fifth [[:wikt:great-grandchild|great-grandson]] of [[Charlemagn] through Pepin of Italy.<ref>Pierre Riché, \\'\\'The Carolingians; A Family Who Forged Europe, trans. Michael Idomir Allen (Philadelphia: University of Pennsylvania Press, 1993), pp. 371, 375</ref>While still a young man Hugh got the nickname \"capet\" from the cape he wore. These were tokens of the lay abbacies he held.<ref>Pierre Riché, \\'\\'The Carolingians; A Family Who Forged Europe, trans. Michael Idomir Allen (Philadelphia: University of Pennsylvania Press, 1993), p. 264</ref> == Elected king of the Franks ==When King Louis V died with no [[:wikt:heir|hei] Adalbero of Reims made a plea for electing Hugh Capet. He proposed the throne was not a hereditary right but that the king should be the best man for the job. The assembly at Senlis agreed and elected Hugh King of the Franks.<ref>Pierre Riché, \\'\\'The Carolingians; A Family Who Forged Europe, trans. Michael Idomir Allen (Philadelphia: University of Pennsylvania Press, 1993), p. 278</ref> Capet is buried in the [[Saint Denis Basilic].== Family ==He married Adelaide of Aquitaine. She was the daughter of [[William III of Aquitain]. Together they had:* Hedwig, who married [[Reginar IV, Count of Mons|Reginar IV]], [[Count of Hainau].<ref name=ESII11>Detlev Schwennicke, \\'\\'Europäische Stammtafeln: Stammtafeln zur Geschichte der Europäischen Staaten\\'\\', Neue Folge, Band II (Marburg, Germany:  J. A. Stargardt, 1984), Tafel 11</ref>* Gisela, who married [[Hugh I, Count of Ponthieu]].<ref name=ESII11/>* [[Robert II of France|Robert II \\'the Pious\\']], who succeeded Hugh as king.<ref name=ESII11/>* Adelaide.<ref name=ESII11/>== References ==[[Category:940s birth][[Category:996 death][[Category:Kings and Queens of Franc]',\n",
       " \"Disney Channel is a [[cable television]] [[Television network|network]] that is owned by [[The Walt Disney Compan]. The channel shows programs that are made for [[famil] audiences, mostly [[pre-teen] and [[teenage. The channel began on the morning of April 18, 1983. Its programs ran for 18 hours a day until December 1986. In 1983-1997, the channel was called The Disney Channel.==Programming blocks=====Disney Junior===Disney Channel currently programs shows targeted at preschool-age children on Monday through Fridays from 7 a.m.-2 p.m. ET/PT and weekends from 7-11 a.m. ET, called [[Playhouse Disne]. During the summer months, the Playhouse Disney block ends at 10 a.m. ET on weekdays. , the only programming featuring classic Disney characters is ''[[Mickey Mouse Clubhous]'' on the Playhouse Disney block.Programming in this block includes ''[[Special Agent Os]'', ''[[Imagination Move'', ''[[Handy Mann]'', ''[[Little Einstein]'', ''[[Mickey Mouse Clubhous]'', ''[[Jungle Junction]]'' and ''[[My Friends Tigger & Pooh]]''.On May 26, 2010 it was announced that the Playhouse Disney block will be re-branded under the name [[Disney Juni which will later become its own digital cable and satellite channel in January 2012, replacing [[SOAPne]. The Disney Junior channel is a direct competitor to [[Nickelodeon (TV channel)|Nickelodeon]]'s [[Nick J network and PBS and Comcast's [[PBS Kids Sprou].<ref>[http://www.nytimes.com/2010/05/27/business/media/27disney.html?src=busln PreSchool Programs Replace SOAPne, ''New York Times'', May 27, 2010</ref>==Disney XD====References==[[Category:1983 establishmen[[Category:Cable television]][[Category:Disne]\",\n",
       " '==slavery?==I removed the following seemingly irrelevant material from this article::If a [[human]] is kept in a style like a pet, they are called a [[dependen] - the word \"pet\" is never used to describe keeping a human except as a [[jok] or [[term of endearmen].  If a human is kept and forced to [[work]] they are called a [[slav].  This is [[illeg in all countries.  However it happens anyway.  There is [[slaver] in many countries, and it has been part of the [[histor] of all countries on [[Earth]].[[User:Elf|Elf]] 17:48, 13 January 2006 (UTC)',\n",
       " \"Milli Vanilli was a [[Germany|German]] [[music]]al [[group]], formed in [[Munich]]. They consisted of [[Fab Morvan]] (born 1966) and [[Rob Pilatu] (1965-1998). They were [[Popular music|popul in the late-[[1980]. In 1990, people found out that the group never sang anything at all. Even at [[concer]s, they pretended to sing ([[lip synchin]) while a recording was played. ==Other websites==*[http://www.mtv.com/overdrive/?artist=12532&source=playAllLarge&launchedFrom=/music/artist/milli_vanilli/artist.jhtml#/overdrive/?artist=12532&launchedFrom=/music/artist/milli_vanilli/artist.jhtml&source=playAllLarge Milli Vanilli Music Videos @ MTV.co*[http://www.mtv.com/music/artist/milli_vanilli/artist.jhtml MTV Artist Arena: Milli Vanill*[http://www.allmusic.com/cg/amg.dll?p=amg&sql=B52x7gjwrj6ix All Music Guide entry for Milli Vanill*[http://www.fabricemorvan.com Fabrice Morvan's official websit[[Category:1980s establishments in German][[Category:1980s German music group][[Category:1990s German music group][[Category:German pop music group][[Category:Munich]][[Category:Musical groups disestablished in 1998]][[Category:Musical groups established in 1988]]\",\n",
       " 'The year 1706 was a [[common ye which started on a Friday.== Events ==* [[September 7]] – [[War of Spanish Succession]] &ndash; The armies of [[Austri] and [[Savo] defeat the French army at the [[Battle of Turin]].== Births ==* [[January 17]] &ndash; [[Benjamin Franklin]], American philosopher, founding father and inventor (d. [[1790]])== Deaths ==* [[March 3]] &ndash; [[Johann Pachelb, German composer (b. [[1653]])* [[December 9]] &ndash; King [[Peter II of Portug (b. [[1648]])[[Category:1706| ]]',\n",
       " '[[File:Ordovicium-Silurian.jpg|thumb|300px|Photo of the [[Ordovician]]–[[Silurian]] boundary. Due to the folding of the Caledonian [[mountain]] range, the layers have been inverted (turned right over). This left the earlier Ordovician [[limeston] sitting on top of the later Silurian brownish [[mudston]] Geology is the study of the nonliving things that the [[Earth]] is made of. Geology is the study of [[Rock (geology)|rock] in the [[Earth\\'s crus]. People who study geology are called geologists. Some geologists study [[miners and the useful substances the rocks contain (such as natural [[g and [[oi]). Geologists also study the [[history of the Earth]]. Some of the important [[even]s in the Earth\\'s history are [[flood]]s, [[volcano|volcanic eruption], [[earthquak]s, [[orogen] (mountain building), and [[plate tectonic] (movement of [[continen). Geology is divided into special subjects that study one part of geology. Some of these subjects are: * [[Geomorpholog] – the study of the shape (morphology) of the surface of the Earth.* [[Historical geolog] – the history of the events that shaped the Earth over the last 4.5 million years.* [[Aquifer|Hydrogeolog] – the study of water under the surface of the Earth* [[Palaeontolog] – the study of [[fossi]s* [[Petrolog] – the study of [[Rock (geology)|rock] how they form and where they are from.* [[Mineralog] – the study of [[miners* [[Sedimentolog] – the study of sediments* [[Stratigraph] – the study of layered [[sedimentary rock]]s and how they were deposited.* Structural geology– the study of folds and [[Fault (geology)|faul and how mountains are formed by uplift. See [[Earth scienc]* [[Volcanolog] – the study of [[volcan]es on land or under the [[ocean]]* [[Seismolog] – the study of [[earthquak]s and strong ground-motion.* Engineering geology -the study of geologic hazards (such as [[landslid]s and earthquakes) applied to [[civil engineerin].* Petroleum geology- the study of [[petroleu] deposits in sedimentary rocks.== Types of rock ==Rocks can be very different from each other.  Some are very hard and some are soft.  Some rocks are very common, while others are rare.  However, all the different rocks belong to three categories or types, igneous, sedimentary and metamorphic. * [[Igneous rock]] is rock that has been made by volcanic action.  Igneous rock is made when the [[lav] (melted rock on the surface of the Earth) or magma (melted rock below the surface of the Earth) cools and becomes hard.* [[Sedimentary rock]] is rock that has been made from [[sedimen].  Sediment is solid pieces of stuff that are moved by wind, water, or [[glacis, and dropped somewhere.  Sediment can be made from clay, [[sand]], [[grav and the bodies and [[Animal shell|shell] of animals.  The sediment gets dropped in a layer, usually in water at the bottom of a river or sea.  As the sediment piles up, the lowers layers get squashed together.  Slowly they set hard into rock.* [[Metamorphic rock]] is rock that has been changed.  Sometimes an igneous or a sedimentary rock is heated or squashed under the ground, so that it changes.  Metamorphic rock is often harder than the rock that it was before it changed.  [[Marbl] and [[sla are among the metamorphic rocks that people use to make things.=== Faults ===All three kinds of rock can be changed by being [[hea]ed and [[squeez]d by forces in the earth. When this happens, [[Fault (geology)|faul (cracks) may appear in the rock. Geologists can learn a lot about the history of the rock by studying the patterns of the fault lines. Earthquakes are caused when a fault breaks suddenly.=== Soil ===Soil is the stuff on the ground made of lots of particles (or tiny pieces). The particles of soil come from rocks that have broken down, and from rotting leaves and animals bodies. Soil covers a lot of the surface of the Earth. Plants of all sorts grow in soil.To find out more about types of rocks, see the \\'\\'[[rock (geolog\\'\\' article.To find out more about soil, see the \\'\\'[[soi]\\'\\' article.== Principles of Stratigraphy ==Geologists use some simple ideas which help them to understand the rocks they are studying. The following ideas were worked out in the early days of [[stratigraph] by people like [[Nicolaus Sten], [[James Hutton]] and [[william Smith (geologist)|William Smith]]: # Understanding the past: Geologist [[James Hutton]] said \"The present is the key to the past\". He meant that the sort of changes that are happening to the Earth\\'s surface now are the same sorts of things that happened in the past. Geologists can understand things that happened millions of years ago, by looking at the changes which are happening today.# [[Horizont [[stra: The layers in a sedimentary rock must have been horizontal (flat) when they were deposited (laid down).# The age of the strata: Layers at the bottom must be older than layers at the top, unless all the rocks have been turned over.# In sedimentary rocks that are made of [[sand]] or [[grav, the sand or gravel must have come from an older rock.# The age of [[Fault (geology)|faul: If there is a crack or fault in a rock, then the fault is younger than the rock. Rocks are in strata (lots of layers). A geologist can see if the faults go through all the layer, or only some. This helps to tell the age of the rocks.# The age of a rock which cuts through other rocks: If an [[igneous rock]] cuts across sedimentary layers, it must be younger than the sedimentary rock.# The relative age of [[fossi]s: A fossil in one rock type must be about the same age as the same type of fossil in the same type of rock \\'\\'in a different place\\'\\'. Likewise, a fossil in a rock layer below must be earlier than one in a higher layer.== Gallery ==<gallery> File:Salterncovenorth1.JPG|Layers of [[sedimentar] [[Rock (geology)|rock]]File:Appalachian fault.jpg|A [[Fault (geology)|faul] cutting through older sedimentary rocksFile:Schunemunk conglomerate and pine.jpg|A [[Conglomerate (geology)|conglomera: sedimentary rock made from white pieces of older rock, broken up and mixed with red sand at the bottom of a river.File:Zimbabwe great dyke.jpg|The [[Zimbabw] Great [[Dyk]: A big band of [[igneou] rock cuts between sedimentary rocks. This picture was taken from a [[Satellite (artificial)|satelli. File:DirkvdM corcovado-rocks.jpg|Beaches are interesting places to study Geology,File:Eingang_der_Katafygi-Höhle.jpg|....so are caves. File:Microplis dans filon d\\'aplite.jpg|This rock-face in [[Franc] contains the [[miner [[Mic]. File:Geological hammer.jpg|A simple, important tool for the GeologistFile:MSH80 david johnston at camp 05-17-80 med.jpg|The geologist, David Johnston, on the side of [[Mount St. Helen].<!---He was killed a few hours later in an eruption.---> File:Diamond Core.jpeg|A young Butcher Bird is standing on a box of rock cores that have been drilled from underground.File:Exploration geologist.jpg|Geologists look at some samples of rock, to find minerals for [[minin].File:S East Geology.jpg|A map showing the geology of South East England. This area has been studied for hundreds of years. File:Southern-ocean sediment hg.png|A map showing the different soils and rocks under the Southern Ocean. Geologists are finding new information about this area.File:Plates tect2 en.svg|This map shows the main \"plates\" of the Earth\\'s surface and which way they are moving. File:Deep sea vent chemistry diagram.jpg|This diagram shows the [[chemic movement at a [[Hydrothermal vent|deep sea ven] on the ocean floor.</gallery>== Related pages ==* [[Geograph] is the study of the [[Earth]] and its features, its [[inhabitan]s, and its phenomena.* [[Zoolog] is the study of [[anims* [[Botan] is the study of [[plan]s and [[fun[[Category:Geology| ]]',\n",
       " \"Cheshire is a county in [[England]]. It is the Northwest part of the country. It is most famous for making [[sal] and [[chees]. Cheshire is made up of lots of little towns including the Borough of Macclesfield which covers a large area of plains the main attraction is in kerridge where there is the famous land mark 'White Nancy.'[[Category:Cheshire| ]]\",\n",
       " 'The Cayman Islands are a territory of the [[United Kingd in the [[Caribbean S. The three islands are [[Grand Cayman]], [[Little Cayman]], and [[Cayman Brac]].Its [[capital (city)|capit, [[George Town, Cayman Islands|George Town]], is on the main island (Grand Cayman).[[Category:Cayman Islands| ]]']"
      ]
     },
     "execution_count": 166,
     "metadata": {},
     "output_type": "execute_result"
    }
   ],
   "source": [
    "corpus"
   ]
  },
  {
   "cell_type": "code",
   "execution_count": 145,
   "metadata": {},
   "outputs": [
    {
     "data": {
      "text/plain": [
       "7"
      ]
     },
     "execution_count": 145,
     "metadata": {},
     "output_type": "execute_result"
    }
   ],
   "source": [
    "len(corpus)"
   ]
  },
  {
   "cell_type": "code",
   "execution_count": 167,
   "metadata": {},
   "outputs": [
    {
     "data": {
      "text/plain": [
       "'Hogwarts School of Witchcraft and Wizardry is a fictional [[boarding scho in [[J. K. Rowlin]\\'s best-selling \\'\\'[[Harry Pott\\'\\' series. It is a school of magic for witches and wizards between the ages of eleven and seventeen living in the United Kingdom, the Republic of Ireland and Scotland.==Hogwarts houses=====Gryffindor===Gryffindor house was born under Godric Grand Gryffindor, from whom it gets the name. The house especially values [[coura. Its symbol (animal) is the Griffon and its colours are [[scarle](red-purple) and yellow / [[gold|goldish]] yellow. Nearly Headless Nick is the house ghost. The Gryffindors always compete with the Slytherins.The Gryffindor Common Room (the place where the Gryffindor students spend their time and do their homework) is in one of the castle\\'s towers, at the seventh floor. At the door, there is the Fat Lady, or the Lady who is fat. She lets the students in only after they give her the password (which changes from the beginning of the school year to the end of the school year). The Fat Lady wears a blue dress. In the room there is a place with fire, many chairs and tables, and two pair of stairs which take the girls and boys to their sleeping rooms.The head of Gryffindor house is Minerva McGonagall.List of well known Gryffindors===Hufflepuff===Hufflepuff house was born under Helga Hufflepuff, from whom it gets the name. The house especially values hard work, patience, friendship and fair play. Its symbol (animal) is the badger and its colours are [[black]] and [[yellow]]. The Fat Friar is the house ghost.The Hufflepuff Common Room door is near the kitchens, in the dungeons. It is a quite cozy and welcoming place, not at all like a dungeon. In the room there are yellow hangings and fat armchairs, with little underground tunnels that take the students to their sleeping rooms. The tunnels have round doors like barrel-tops.The head of Hufflepuff house is Pomona Sprout.Cedric Diggory dies in \"Harry Potter and the Goblet of Fire\" book and movie.===Ravenclaw===Ravenclaw house was born under Rowena Ravenclaw, from whom it gets the name. The house especially values intelligence. Its symbol (animal) is the eagle and its colours are [[blu] and [[bronz], the house\\'s saying is \"Wit beyond measure is mans greatest treasure\". The Grey Lady is the house ghost and when she was alive she was Helena Ravenclaw, daughter of Rowena Ravenclaw. The Ravenclaw Common Room is in Ravenclaw Tower, on the west side of the Castle. At the door the students must answer a riddle that the eagle-shaped door knocker asks them.The head of Ravenclaw house is Filius Flitwick.List of well known Ravenclaws===Slytherin===Slytherin house was born under Salazar Slytherin, from whom it gets the name. The house especially values ambition and determination. Its symbol (animal) is the snake and its colours are [[green]] and [[silv. The Bloody Baron is the house ghost.The Slytherin Common Room is in the dungeons of Hogwarts and is placed under The Black Lake, in the school grounds.The house has a negative reputation, with a lot of people saying that it is the house from where almost all dark wizards in Britain, notably Tom Riddle ([[Voldemor]), came from.The house is usually in competition with the Gryffindor house, as they \"don\\'t like each other on principle\".The head of Slytherin house is Severus Snape and in the 7th book Horace Slughorn.List of well known Slytherins'"
      ]
     },
     "execution_count": 167,
     "metadata": {},
     "output_type": "execute_result"
    }
   ],
   "source": [
    "corpus[0]"
   ]
  },
  {
   "cell_type": "code",
   "execution_count": 177,
   "metadata": {},
   "outputs": [
    {
     "data": {
      "text/plain": [
       "\"Hogwarts School of Witchcraft and Wizardry is a fictional boarding scho in J. K. Rowlin's bestselling ''Harry Pott'' series. It is a school of magic for witches and wizards between the ages of eleven and seventeen living in the United Kingdom the Republic of Ireland and Scotland.Hogwarts housesGryffindorGryffindor house was born under Godric Grand Gryffindor from whom it gets the name. The house especially values coura. Its symbol animal is the Griffon and its colours are scarleredpurple and yellow  goldgoldish yellow. Nearly Headless Nick is the house ghost. The Gryffindors always compete with the Slytherins.The Gryffindor Common Room the place where the Gryffindor students spend their time and do their homework is in one of the castle's towers at the seventh floor. At the door there is the Fat Lady or the Lady who is fat. She lets the students in only after they give her the password which changes from the beginning of the school year to the end of the school year. The Fat Lady wears a blue dress. In the room there is a place with fire many chairs and tables and two pair of stairs which take the girls and boys to their sleeping rooms.The head of Gryffindor house is Minerva McGonagall.List of well known GryffindorsHufflepuffHufflepuff house was born under Helga Hufflepuff from whom it gets the name. The house especially values hard work patience friendship and fair play. Its symbol animal is the badger and its colours are black and yellow. The Fat Friar is the house ghost.The Hufflepuff Common Room door is near the kitchens in the dungeons. It is a quite cozy and welcoming place not at all like a dungeon. In the room there are yellow hangings and fat armchairs with little underground tunnels that take the students to their sleeping rooms. The tunnels have round doors like barreltops.The head of Hufflepuff house is Pomona Sprout.Cedric Diggory dies in Harry Potter and the Goblet of Fire book and movie.RavenclawRavenclaw house was born under Rowena Ravenclaw from whom it gets the name. The house especially values intelligence. Its symbol animal is the eagle and its colours are blu and bronz the house's saying is Wit beyond measure is mans greatest treasure. The Grey Lady is the house ghost and when she was alive she was Helena Ravenclaw daughter of Rowena Ravenclaw. The Ravenclaw Common Room is in Ravenclaw Tower on the west side of the Castle. At the door the students must answer a riddle that the eagleshaped door knocker asks them.The head of Ravenclaw house is Filius Flitwick.List of well known RavenclawsSlytherinSlytherin house was born under Salazar Slytherin from whom it gets the name. The house especially values ambition and determination. Its symbol animal is the snake and its colours are green and silv. The Bloody Baron is the house ghost.The Slytherin Common Room is in the dungeons of Hogwarts and is placed under The Black Lake in the school grounds.The house has a negative reputation with a lot of people saying that it is the house from where almost all dark wizards in Britain notably Tom Riddle Voldemor came from.The house is usually in competition with the Gryffindor house as they don't like each other on principle.The head of Slytherin house is Severus Snape and in the th book Horace Slughorn.List of well known Slytherins\""
      ]
     },
     "execution_count": 177,
     "metadata": {},
     "output_type": "execute_result"
    }
   ],
   "source": [
    "sanitize_text(corpus[0])"
   ]
  },
  {
   "cell_type": "code",
   "execution_count": null,
   "metadata": {},
   "outputs": [],
   "source": []
  },
  {
   "cell_type": "code",
   "execution_count": null,
   "metadata": {},
   "outputs": [],
   "source": []
  }
 ],
 "metadata": {
  "kernelspec": {
   "display_name": "Python 3",
   "language": "python",
   "name": "python3"
  },
  "language_info": {
   "codemirror_mode": {
    "name": "ipython",
    "version": 3
   },
   "file_extension": ".py",
   "mimetype": "text/x-python",
   "name": "python",
   "nbconvert_exporter": "python",
   "pygments_lexer": "ipython3",
   "version": "3.7.3"
  }
 },
 "nbformat": 4,
 "nbformat_minor": 2
}
